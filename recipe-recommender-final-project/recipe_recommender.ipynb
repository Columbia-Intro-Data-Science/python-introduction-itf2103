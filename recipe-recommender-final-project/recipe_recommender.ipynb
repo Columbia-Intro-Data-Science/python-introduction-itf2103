{
 "cells": [
  {
   "cell_type": "markdown",
   "metadata": {},
   "source": [
    "### Data Gathering and Pre-Processing"
   ]
  },
  {
   "cell_type": "code",
   "execution_count": 1,
   "metadata": {},
   "outputs": [],
   "source": [
    "from recipe_scrapers import scrape_me"
   ]
  },
  {
   "cell_type": "code",
   "execution_count": 2,
   "metadata": {},
   "outputs": [
    {
     "name": "stdout",
     "output_type": "stream",
     "text": [
      "Spicy Thai Basil Chicken (Pad Krapow Gai)\n",
      "['1/3 cup chicken broth', '1 tablespoon oyster sauce', '1 tablespoon soy sauce, or as needed', '2 teaspoons fish sauce', '1 teaspoon white sugar', '1 teaspoon brown sugar', '2 tablespoons vegetable oil', '1 pound skinless, boneless chicken thighs, coarsely chopped', '1/4 cup sliced shallots', '4 cloves garlic, minced', '2 tablespoons minced Thai chilies, Serrano, or other hot pepper', '1 cup very thinly sliced fresh basil leaves', '2 cups hot cooked rice']\n"
     ]
    }
   ],
   "source": [
    "# Test out recipe scraper\n",
    "scrape = scrape_me('https://www.allrecipes.com/recipe/257938/spicy-thai-basil-chicken-pad-krapow-gai')\n",
    "print(scrape.title())\n",
    "print(scrape.ingredients())"
   ]
  },
  {
   "cell_type": "code",
   "execution_count": 3,
   "metadata": {},
   "outputs": [
    {
     "name": "stdout",
     "output_type": "stream",
     "text": [
      "['1', '2', '3', '4', '5', '6', '7', '8', '9', \"'\", ',', '/', 'baking', 'brown', 'cans', 'chopped', 'cloves', 'coarsely', 'crumbled', 'crumbs', 'crushed', 'cup', 'cups', 'cut', 'dark', 'divided', 'minced', 'mix', 'needed', 'optional', 'other', 'ounces', 'ounce', 'package', 'pan', 'parts', 'pound', 'sliced', 'tablespoons', 'tablespoon', 'tbs', 'tbsp', 'teaspoons', 'teaspoon', 'tsp', 'vegetable', 'white', 'large', 'purpose', 'peeled', 'discarded', 'finely', 'finely', 'pinches', 'pinch', 'shears', 'grey', 'serving', 'slices', 'slivered']\n"
     ]
    }
   ],
   "source": [
    "# Remove common filler words that aren't ingredients; I actually ended up keeping some words that could be latent features\n",
    "import pandas\n",
    "data = pandas.read_csv(\"words_remove.csv\")\n",
    "words_remove = data['Words'].tolist()\n",
    "print(words_remove)"
   ]
  },
  {
   "cell_type": "code",
   "execution_count": 4,
   "metadata": {},
   "outputs": [],
   "source": [
    "def clean_ingredients():\n",
    "    for i in range(len(words_remove)):\n",
    "        global ingredients\n",
    "        ingredients = [x.replace(words_remove[i],\"\") for x in ingredients]\n",
    "        ingredients = [x.replace(\"  \",\" \") for x in ingredients]\n",
    "        ingredients = [x.strip() for x in ingredients]"
   ]
  },
  {
   "cell_type": "code",
   "execution_count": 5,
   "metadata": {
    "scrolled": true
   },
   "outputs": [
    {
     "name": "stdout",
     "output_type": "stream",
     "text": [
      "['chicken broth', 'oyster sauce', 'soy sauce or as', 'fish sauce', 'sugar', 'sugar', 'oil', 'skinless boneless chicken thighs', 'shallots', 'garlic', 'Thai chilies Serrano or hot pepper', 'very thinly fresh basil leaves', 's hot cooked rice']\n"
     ]
    }
   ],
   "source": [
    "# Test out writing the cleaned-up ingredients to a csv\n",
    "import csv\n",
    "filename = \"recipetest.csv\"\n",
    "f = open(filename, \"w\")\n",
    "headers = \"ingredients\"\n",
    "f.write(headers)\n",
    "ingredients = scrape.ingredients()\n",
    "#ingredients = ''.join(scrape.ingredients())\n",
    "#f.write(ingredients.replace(\"'\", \"\"))\n",
    "\n",
    "clean_ingredients()\n",
    "\n",
    "with open(filename, \"w\") as output:\n",
    "    writer = csv.writer(output, lineterminator='\\n')\n",
    "    for val in ingredients:\n",
    "        writer.writerow([val])\n",
    "f.close()\n",
    "print(ingredients)"
   ]
  },
  {
   "cell_type": "markdown",
   "metadata": {},
   "source": [
    "This gives us a list of cleaned-up ingredients that we could perhaps put into a dictionary and then create a matrix from. But I'm going to try a different method. I will concatenate the items in the list into a string which will allow me to use TfidfVectorizer from Sci-Kit Learn."
   ]
  },
  {
   "cell_type": "code",
   "execution_count": 6,
   "metadata": {},
   "outputs": [],
   "source": [
    "df_recipes = pandas.read_csv(\"recipe_links.csv\")\n",
    "recipe_links = df_recipes['Link'].tolist()"
   ]
  },
  {
   "cell_type": "code",
   "execution_count": 7,
   "metadata": {},
   "outputs": [],
   "source": [
    "ingredients_combined = []\n",
    "titles_list = []\n",
    "for j in range(len(recipe_links)):\n",
    "    scrape = scrape_me(recipe_links[j])\n",
    "    ingredients = scrape.ingredients()\n",
    "    clean_ingredients()\n",
    "    ingredients_combined.append(' '.join(ingredients))\n",
    "    titles_list.append(scrape.title())"
   ]
  },
  {
   "cell_type": "code",
   "execution_count": 8,
   "metadata": {},
   "outputs": [
    {
     "data": {
      "text/html": [
       "<div>\n",
       "<style scoped>\n",
       "    .dataframe tbody tr th:only-of-type {\n",
       "        vertical-align: middle;\n",
       "    }\n",
       "\n",
       "    .dataframe tbody tr th {\n",
       "        vertical-align: top;\n",
       "    }\n",
       "\n",
       "    .dataframe thead th {\n",
       "        text-align: right;\n",
       "    }\n",
       "</style>\n",
       "<table border=\"1\" class=\"dataframe\">\n",
       "  <thead>\n",
       "    <tr style=\"text-align: right;\">\n",
       "      <th></th>\n",
       "      <th>Link</th>\n",
       "      <th>Title</th>\n",
       "      <th>Ingredients</th>\n",
       "    </tr>\n",
       "  </thead>\n",
       "  <tbody>\n",
       "    <tr>\n",
       "      <th>0</th>\n",
       "      <td>https://www.allrecipes.com/recipe/257938/spicy...</td>\n",
       "      <td>Spicy Thai Basil Chicken (Pad Krapow Gai)</td>\n",
       "      <td>chicken broth oyster sauce soy sauce or as fis...</td>\n",
       "    </tr>\n",
       "    <tr>\n",
       "      <th>1</th>\n",
       "      <td>https://www.allrecipes.com/recipe/238840/quick...</td>\n",
       "      <td>Quick Crispy Parmesan Chicken Breasts</td>\n",
       "      <td>cooking spray ko bread Parmesan cheese paprika...</td>\n",
       "    </tr>\n",
       "    <tr>\n",
       "      <th>2</th>\n",
       "      <td>https://www.allrecipes.com/recipe/23847/pasta-...</td>\n",
       "      <td>Pasta Pomodoro</td>\n",
       "      <td>( ) angel hair pasta olive oil onion garlic s ...</td>\n",
       "    </tr>\n",
       "    <tr>\n",
       "      <th>3</th>\n",
       "      <td>https://www.allrecipes.com/recipe/50435/fry-br...</td>\n",
       "      <td>Fry Bread Tacos II</td>\n",
       "      <td>Toppings: (. ) can pinto beans with liquid pic...</td>\n",
       "    </tr>\n",
       "    <tr>\n",
       "      <th>4</th>\n",
       "      <td>https://www.allrecipes.com/recipe/142488/amazi...</td>\n",
       "      <td>Amazing Spicy Grilled Shrimp</td>\n",
       "      <td>olive oil sesame oil fresh parsley hot sauce g...</td>\n",
       "    </tr>\n",
       "  </tbody>\n",
       "</table>\n",
       "</div>"
      ],
      "text/plain": [
       "                                                Link  \\\n",
       "0  https://www.allrecipes.com/recipe/257938/spicy...   \n",
       "1  https://www.allrecipes.com/recipe/238840/quick...   \n",
       "2  https://www.allrecipes.com/recipe/23847/pasta-...   \n",
       "3  https://www.allrecipes.com/recipe/50435/fry-br...   \n",
       "4  https://www.allrecipes.com/recipe/142488/amazi...   \n",
       "\n",
       "                                       Title  \\\n",
       "0  Spicy Thai Basil Chicken (Pad Krapow Gai)   \n",
       "1      Quick Crispy Parmesan Chicken Breasts   \n",
       "2                             Pasta Pomodoro   \n",
       "3                         Fry Bread Tacos II   \n",
       "4               Amazing Spicy Grilled Shrimp   \n",
       "\n",
       "                                         Ingredients  \n",
       "0  chicken broth oyster sauce soy sauce or as fis...  \n",
       "1  cooking spray ko bread Parmesan cheese paprika...  \n",
       "2  ( ) angel hair pasta olive oil onion garlic s ...  \n",
       "3  Toppings: (. ) can pinto beans with liquid pic...  \n",
       "4  olive oil sesame oil fresh parsley hot sauce g...  "
      ]
     },
     "execution_count": 8,
     "metadata": {},
     "output_type": "execute_result"
    }
   ],
   "source": [
    "ingredients_matrix = df_recipes\n",
    "ingredients_matrix['Title'] = titles_list\n",
    "ingredients_matrix['Ingredients'] = ingredients_combined\n",
    "ingredients_matrix.head()"
   ]
  },
  {
   "cell_type": "code",
   "execution_count": 9,
   "metadata": {},
   "outputs": [],
   "source": [
    "from sklearn.feature_extraction.text import TfidfVectorizer\n",
    "from sklearn.feature_extraction.text import CountVectorizer\n",
    "from sklearn.metrics.pairwise import linear_kernel\n",
    "\n",
    "cv = CountVectorizer(analyzer='word', stop_words='english', binary=True)\n",
    "cv_matrix = cv.fit_transform(ingredients_matrix['Ingredients'])\n",
    "#print(cv_matrix.toarray())\n",
    "#print(cv.get_feature_names())"
   ]
  },
  {
   "cell_type": "markdown",
   "metadata": {},
   "source": [
    "Here we can use CountVectorizer to get a visual matrix/array represenation of what words were in each ingredient list and also see what feature names are being used from the scraped ingredients list."
   ]
  },
  {
   "cell_type": "code",
   "execution_count": 10,
   "metadata": {},
   "outputs": [
    {
     "data": {
      "text/plain": [
       "<102x3774 sparse matrix of type '<class 'numpy.float64'>'\n",
       "\twith 6478 stored elements in Compressed Sparse Row format>"
      ]
     },
     "execution_count": 10,
     "metadata": {},
     "output_type": "execute_result"
    }
   ],
   "source": [
    "tf = TfidfVectorizer(analyzer='word', ngram_range=(1,3), stop_words='english', binary=True)\n",
    "tfidf_matrix = tf.fit_transform(ingredients_matrix['Ingredients'])\n",
    "tfidf_matrix"
   ]
  },
  {
   "cell_type": "markdown",
   "metadata": {},
   "source": [
    "TFidfVectorizer produces normalized vectors so we can use linear_kernal for cosine similarity; ngram_range allows us to pick up single words, two words, and three words in a sequence as they may be important; I put binary=True because I don't care how many times an ingredient is mentioned in a recipe, I just care if it is listed or not."
   ]
  },
  {
   "cell_type": "code",
   "execution_count": 11,
   "metadata": {},
   "outputs": [
    {
     "name": "stdout",
     "output_type": "stream",
     "text": [
      "Comparing recipes to: Quick Crispy Parmesan Chicken Breasts\n"
     ]
    }
   ],
   "source": [
    "#cosine similarity\n",
    "recipe_comparitor = 1\n",
    "cosine_similarities = linear_kernel(tfidf_matrix[recipe_comparitor], tfidf_matrix).flatten()\n",
    "cosine_similarities\n",
    "print('Comparing recipes to: ' + str(ingredients_matrix['Title'][recipe_comparitor]))"
   ]
  },
  {
   "cell_type": "code",
   "execution_count": 12,
   "metadata": {},
   "outputs": [],
   "source": [
    "# This will compare every recipe with every recipe\n",
    "#cosine_similarities = linear_kernel(tfidf_matrix, tfidf_matrix)\n",
    "#for idx, row in ingredients_matrix.iterrows():\n",
    "#    similar_indices = cosine_similarities[idx].argsort()[:-100:-1]\n",
    "#    similar_items = [(cosine_similarities[idx][i], ingredients_matrix['Title'][i]) for i in similar_indices]\n",
    "#similar_items"
   ]
  },
  {
   "cell_type": "code",
   "execution_count": 13,
   "metadata": {},
   "outputs": [
    {
     "data": {
      "text/plain": [
       "array([  1,  75, 100,  70,  82,  10,  29,  80,  68,  71,  54], dtype=int64)"
      ]
     },
     "execution_count": 13,
     "metadata": {},
     "output_type": "execute_result"
    }
   ],
   "source": [
    "cosine_index = cosine_similarities.argsort()[:-12:-1] # Return the 10 best matches for recipes not including recipe used for comparison\n",
    "cosine_index"
   ]
  },
  {
   "cell_type": "code",
   "execution_count": 14,
   "metadata": {},
   "outputs": [
    {
     "name": "stdout",
     "output_type": "stream",
     "text": [
      "Showing 10 best recipe matches and the cosine similarity\n"
     ]
    },
    {
     "data": {
      "text/plain": [
       "[['Barbeque Bacon Chicken Bake', 0.19105400130925004],\n",
       " ['Chicken Parmesan', 0.16237525968599492],\n",
       " ['Chicken Souvlaki with Tzatziki Sauce', 0.12151562402119515],\n",
       " ['Curry Stand Chicken Tikka Masala Sauce', 0.11593126997255343],\n",
       " ['Chicken Cacciatore in a Slow Cooker ', 0.11541166177320977],\n",
       " ['Buttered Noodles', 0.09161782268707958],\n",
       " ['Easy Chicken and Corn Chowder', 0.08960571813160662],\n",
       " ['Oven Roasted Parmesan Potatoes', 0.08724557817388662],\n",
       " ['Baked Split Chicken Breast', 0.0743766979226665],\n",
       " ['Butter-Roasted Cauliflower ', 0.0733589275492336]]"
      ]
     },
     "execution_count": 14,
     "metadata": {},
     "output_type": "execute_result"
    }
   ],
   "source": [
    "similar_items = []\n",
    "for i in range(len(cosine_index)):\n",
    "    similar_items.append([(ingredients_matrix['Title'][cosine_index[i]]), cosine_similarities[cosine_index[i]]])\n",
    "del similar_items[0] # Delete first item from list as that will be the recipe being used for comparison\n",
    "print('Showing 10 best recipe matches and the cosine similarity')\n",
    "similar_items"
   ]
  },
  {
   "cell_type": "markdown",
   "metadata": {},
   "source": [
    "### Data Integrity Check"
   ]
  },
  {
   "cell_type": "markdown",
   "metadata": {},
   "source": [
    "Did you account for missing values and outliers?\n",
    "Is there information leakage? ie. a variable which is actually inferred by the outcome (eg. predicting a user likes a movie using the fact that they've liked that movie before).\n",
    "Are some variables non-sensical or redundant? (ie. if you see \"Male\" sometimes and \"M\" other times, or numerical values in the gender column)."
   ]
  },
  {
   "cell_type": "markdown",
   "metadata": {},
   "source": [
    "In recipe_links.csv, I have duplicates highlighted just in case I add a link that I've already added before."
   ]
  },
  {
   "cell_type": "markdown",
   "metadata": {},
   "source": [
    "### Feature Engineering"
   ]
  },
  {
   "cell_type": "markdown",
   "metadata": {},
   "source": [
    "### Standardization"
   ]
  },
  {
   "cell_type": "markdown",
   "metadata": {},
   "source": [
    "### SQL Database"
   ]
  }
 ],
 "metadata": {
  "kernelspec": {
   "display_name": "Python 3",
   "language": "python",
   "name": "python3"
  },
  "language_info": {
   "codemirror_mode": {
    "name": "ipython",
    "version": 3
   },
   "file_extension": ".py",
   "mimetype": "text/x-python",
   "name": "python",
   "nbconvert_exporter": "python",
   "pygments_lexer": "ipython3",
   "version": "3.6.4"
  }
 },
 "nbformat": 4,
 "nbformat_minor": 2
}
